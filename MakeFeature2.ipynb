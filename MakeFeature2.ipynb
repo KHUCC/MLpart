{
 "cells": [
  {
   "cell_type": "code",
   "execution_count": 1,
   "id": "04142bcd",
   "metadata": {
    "_cell_guid": "b1076dfc-b9ad-4769-8c92-a6c4dae69d19",
    "_uuid": "8f2839f25d086af736a60e9eeb907d3b93b6e0e5",
    "execution": {
     "iopub.execute_input": "2022-03-23T22:17:58.715198Z",
     "iopub.status.busy": "2022-03-23T22:17:58.714026Z",
     "iopub.status.idle": "2022-03-23T22:18:01.108588Z",
     "shell.execute_reply": "2022-03-23T22:18:01.107445Z",
     "shell.execute_reply.started": "2022-03-22T11:44:11.7364Z"
    },
    "papermill": {
     "duration": 2.420081,
     "end_time": "2022-03-23T22:18:01.108765",
     "exception": false,
     "start_time": "2022-03-23T22:17:58.688684",
     "status": "completed"
    },
    "tags": []
   },
   "outputs": [],
   "source": [
    "import numpy as np \n",
    "import pandas as pd \n",
    "import librosa\n",
    "import librosa.display\n",
    "\n",
    "import IPython.display as idp\n",
    "\n",
    "\n",
    "pd.set_option('display.max_columns', None)\n",
    "import warnings\n",
    "warnings.filterwarnings('ignore')\n"
   ]
  },
  {
   "cell_type": "code",
   "execution_count": 2,
   "id": "b5687aba",
   "metadata": {
    "execution": {
     "iopub.execute_input": "2022-03-23T22:18:01.196798Z",
     "iopub.status.busy": "2022-03-23T22:18:01.196127Z",
     "iopub.status.idle": "2022-03-23T22:18:01.291287Z",
     "shell.execute_reply": "2022-03-23T22:18:01.291891Z",
     "shell.execute_reply.started": "2022-03-22T11:44:14.104548Z"
    },
    "papermill": {
     "duration": 0.119716,
     "end_time": "2022-03-23T22:18:01.292070",
     "exception": false,
     "start_time": "2022-03-23T22:18:01.172354",
     "status": "completed"
    },
    "tags": []
   },
   "outputs": [],
   "source": [
    "train_df = pd.read_csv('/workspace/data/train.csv')\n",
    "test_df = pd.read_csv('/workspace/data/valid.csv')\n",
    "\n",
    "genre = pd.read_csv('/workspace/data/genres.csv')"
   ]
  },
  {
   "cell_type": "code",
   "execution_count": 3,
   "id": "f4534328",
   "metadata": {
    "execution": {
     "iopub.execute_input": "2022-03-23T22:18:01.341042Z",
     "iopub.status.busy": "2022-03-23T22:18:01.340366Z",
     "iopub.status.idle": "2022-03-23T22:18:03.577402Z",
     "shell.execute_reply": "2022-03-23T22:18:03.578152Z",
     "shell.execute_reply.started": "2022-03-22T11:44:15.310992Z"
    },
    "papermill": {
     "duration": 2.264314,
     "end_time": "2022-03-23T22:18:03.578328",
     "exception": false,
     "start_time": "2022-03-23T22:18:01.314014",
     "status": "completed"
    },
    "tags": []
   },
   "outputs": [
    {
     "name": "stdout",
     "output_type": "stream",
     "text": [
      "y: [-3.9524730e-06  6.7218953e-06 -6.7247565e-06 ...  0.0000000e+00\n",
      "  0.0000000e+00  0.0000000e+00] \n",
      "\n",
      "y shape: (4576344,) \n",
      "\n",
      "Sample Rate (KHz): 22050 \n",
      "\n",
      "Length of Audio: 207.5439455782313\n"
     ]
    }
   ],
   "source": [
    "y,sr = librosa.load('/workspace/data/R&B:Soul/#첫사랑_볼빨간사춘기.mp3')\n",
    "print('y:',y,'\\n')\n",
    "print('y shape:',np.shape(y),'\\n')\n",
    "print('Sample Rate (KHz):',sr, '\\n')\n",
    "\n",
    "print('Length of Audio:', len(y)/sr)\n"
   ]
  },
  {
   "cell_type": "code",
   "execution_count": 4,
   "id": "d512c4b4",
   "metadata": {
    "execution": {
     "iopub.execute_input": "2022-03-23T22:18:03.630266Z",
     "iopub.status.busy": "2022-03-23T22:18:03.629457Z",
     "iopub.status.idle": "2022-03-23T22:18:03.633317Z",
     "shell.execute_reply": "2022-03-23T22:18:03.633814Z",
     "shell.execute_reply.started": "2022-03-22T11:38:56.521744Z"
    },
    "papermill": {
     "duration": 0.034159,
     "end_time": "2022-03-23T22:18:03.633992",
     "exception": false,
     "start_time": "2022-03-23T22:18:03.599833",
     "status": "completed"
    },
    "tags": []
   },
   "outputs": [
    {
     "data": {
      "text/plain": [
       "['C', 'C♯', 'D', 'D♯', 'E', 'F', 'F♯', 'G', 'G♯', 'A', 'A♯', 'B']"
      ]
     },
     "execution_count": 4,
     "metadata": {},
     "output_type": "execute_result"
    }
   ],
   "source": [
    "librosa.key_to_notes(key='C:maj')"
   ]
  },
  {
   "cell_type": "code",
   "execution_count": null,
   "id": "9a780222",
   "metadata": {
    "execution": {
     "iopub.execute_input": "2022-03-23T22:18:04.004104Z",
     "iopub.status.busy": "2022-03-23T22:18:04.003410Z",
     "iopub.status.idle": "2022-03-23T22:18:04.357855Z",
     "shell.execute_reply": "2022-03-23T22:18:04.359513Z",
     "shell.execute_reply.started": "2022-03-22T11:44:19.54311Z"
    },
    "papermill": {
     "duration": 0.381228,
     "end_time": "2022-03-23T22:18:04.359967",
     "exception": false,
     "start_time": "2022-03-23T22:18:03.978739",
     "status": "completed"
    },
    "tags": []
   },
   "outputs": [],
   "source": [
    "pitches = ['C','C#','D','D#','E','F','F#','G','G#','A','A#','B']"
   ]
  },
  {
   "cell_type": "code",
   "execution_count": 10,
   "id": "de960f9b",
   "metadata": {
    "execution": {
     "iopub.execute_input": "2022-03-23T22:18:04.758934Z",
     "iopub.status.busy": "2022-03-23T22:18:04.758219Z",
     "iopub.status.idle": "2022-03-23T22:18:04.783686Z",
     "shell.execute_reply": "2022-03-23T22:18:04.784176Z",
     "shell.execute_reply.started": "2022-03-22T11:44:25.788469Z"
    },
    "papermill": {
     "duration": 0.068361,
     "end_time": "2022-03-23T22:18:04.784359",
     "exception": false,
     "start_time": "2022-03-23T22:18:04.715998",
     "status": "completed"
    },
    "tags": []
   },
   "outputs": [],
   "source": [
    "def feature_extract(row):\n",
    "    filepath = row['filepath']\n",
    "    ls_mean = []\n",
    "    ls_var =[]\n",
    "    \n",
    "\n",
    "    y,sr = librosa.load(f'{filepath}',res_type='kaiser_fast')\n",
    "    length = len(y)/sr\n",
    "    mean_stft = np.mean(librosa.feature.chroma_stft(y=y,sr=sr))\n",
    "    var_stft = np.var(librosa.feature.chroma_stft(y=y,sr=sr))\n",
    "    tempo = librosa.beat.tempo(y,sr=sr)[0]\n",
    "    \n",
    "    S,phase = librosa.magphase(librosa.stft(y))\n",
    "    rms = librosa.feature.rms(S=S)\n",
    "    rms_mean = np.mean(rms)\n",
    "    rms_var = np.var(rms)\n",
    "    \n",
    "    centroid = librosa.feature.spectral_centroid(S=S)\n",
    "    centroid_mean = np.mean(centroid)\n",
    "    centroid_var = np.var(centroid)\n",
    "    \n",
    "    bandwidth = librosa.feature.spectral_bandwidth(S=S)\n",
    "    bandwidth_mean = np.mean(bandwidth)\n",
    "    bandwidth_var = np.var(bandwidth)\n",
    "    \n",
    "    rolloff = librosa.feature.spectral_rolloff(y=y,sr=sr,roll_percent=0.85)\n",
    "    rolloff_mean = np.mean(rolloff)\n",
    "    rolloff_var = np.var(rolloff)\n",
    "    \n",
    "    zerocrossing = librosa.feature.zero_crossing_rate(y=y)\n",
    "    crossing_mean = np.mean(zerocrossing)\n",
    "    crossing_var = np.var(zerocrossing)\n",
    "    \n",
    "    y_harmonic = librosa.effects.harmonic(y=y)\n",
    "    harmonic_mean = np.mean(y_harmonic)\n",
    "    harmonic_var = np.var(y_harmonic)\n",
    "    \n",
    "    contrast = librosa.feature.spectral_contrast(S=S,sr=sr)\n",
    "    contrast_mean = np.mean(contrast)\n",
    "    contrast_var = np.var(contrast)\n",
    "\n",
    "    mfcc= librosa.feature.mfcc(y=y,sr=sr)\n",
    "    for i in range(0,20):\n",
    "        ls_mean.append(np.mean(mfcc[i]))\n",
    "        ls_var.append(np.var(mfcc[i]))\n",
    "        \n",
    "    key = librosa.feature.chroma_stft(y=y,sr=sr).sum(axis=1).argmax()\n",
    "    key_name = pitches[librosa.feature.chroma_stft(y=y,sr=sr).sum(axis=1).argmax()]\n",
    "    \n",
    "    if librosa.feature.chroma_stft(y=y,sr=sr).sum(axis=1)[(key+3)%12] > librosa.feature.chroma_stft(y=y,sr=sr).sum(axis=1)[(key+4)%12]:\n",
    "            scale = 'minor'\n",
    "    else:\n",
    "            scale = 'Major'\n",
    "        \n",
    "\n",
    "        \n",
    "    return [length,mean_stft,var_stft,tempo,rms_mean,rms_var,centroid_mean,centroid_var,\\\n",
    "bandwidth_mean,bandwidth_var,rolloff_mean,rolloff_var, crossing_mean,crossing_var,\\\n",
    "harmonic_mean,harmonic_var,contrast_mean,contrast_var,key,key_name,scale,ls_mean[0],ls_var[0],ls_mean[1],ls_var[1],ls_mean[2],ls_var[2],\\\n",
    "ls_mean[3],ls_var[3],ls_mean[4],ls_var[4],ls_mean[5],ls_var[5],ls_mean[6],ls_var[6],ls_mean[7],ls_var[7],ls_mean[8],ls_var[8],\\\n",
    "ls_mean[9],ls_var[9],ls_mean[10],ls_var[10],ls_mean[11],ls_var[11],ls_mean[12],ls_var[12],ls_mean[13],ls_var[13],ls_mean[14],ls_var[14],\\\n",
    "ls_mean[15],ls_var[15],ls_mean[16],ls_var[16],ls_mean[17],ls_var[17],ls_mean[18],ls_var[18],ls_mean[19],ls_var[19]]"
   ]
  },
  {
   "cell_type": "code",
   "execution_count": 13,
   "id": "8f9db945",
   "metadata": {},
   "outputs": [],
   "source": [
    "train_df = train_df.drop(train_df[train_df.filepath.str.contains('DS')].index.to_list())\n",
    "train_df = train_df.reset_index(drop=True)"
   ]
  },
  {
   "cell_type": "code",
   "execution_count": null,
   "id": "0c042c22",
   "metadata": {
    "execution": {
     "iopub.execute_input": "2022-03-23T22:18:42.970131Z",
     "iopub.status.busy": "2022-03-23T22:18:42.969006Z",
     "iopub.status.idle": "2022-03-23T22:18:42.971081Z",
     "shell.execute_reply": "2022-03-23T22:18:42.971732Z"
    },
    "papermill": {
     "duration": 0.050935,
     "end_time": "2022-03-23T22:18:42.971931",
     "exception": false,
     "start_time": "2022-03-23T22:18:42.920996",
     "status": "completed"
    },
    "tags": []
   },
   "outputs": [],
   "source": [
    "train_df[['length','mean_stft','var_stft','tempo','rms_mean','rms_var','centroid_mean','centroid_var',\\\n",
    "'bandwidth_mean','bandwidth_var','rolloff_mean','rolloff_var', 'crossing_mean','crossing_var',\\\n",
    "'harmonic_mean','harmonic_var','contrast_mean','contrast_var','key','key_name','scale','mfcc1_mean','mfcc1_var','mfcc2_mean','mfcc2_var','mfcc3_mean','mfcc3_var','mfcc4_mean','mfcc4_var',\\\n",
    "       'mfcc5_mean','mfcc5_var','mfcc6_mean','mfcc6_var','mfcc7_mean','mfcc7_var','mfcc8_mean','mfcc8_var',\\\n",
    "       'mfcc9_mean','mfcc9_var','mfcc10_mean','mfcc10_var','mfcc11_mean','mfcc11_var','mfcc12_mean','mfcc12_var',\\\n",
    "       'mfcc13_mean','mfcc13_var','mfcc14_mean','mfcc14_var','mfcc15_mean','mfcc15_var','mfcc16_mean','mfcc16_var',\\\n",
    "       'mfcc17_mean','mfcc17_var','mfcc18_mean','mfcc18_var','mfcc19_mean','mfcc19_var','mfcc20_mean','mfcc20_var']] = train_df.apply(feature_extract,axis=1,result_type='expand')"
   ]
  },
  {
   "cell_type": "code",
   "execution_count": 15,
   "id": "6d05518a",
   "metadata": {
    "execution": {
     "iopub.execute_input": "2022-03-23T22:18:43.061014Z",
     "iopub.status.busy": "2022-03-23T22:18:43.059349Z",
     "iopub.status.idle": "2022-03-23T22:18:43.063304Z",
     "shell.execute_reply": "2022-03-23T22:18:43.063965Z"
    },
    "papermill": {
     "duration": 0.050414,
     "end_time": "2022-03-23T22:18:43.064152",
     "exception": false,
     "start_time": "2022-03-23T22:18:43.013738",
     "status": "completed"
    },
    "tags": []
   },
   "outputs": [],
   "source": [
    "train_df.to_csv('train_features.csv', index=False)"
   ]
  },
  {
   "cell_type": "code",
   "execution_count": null,
   "id": "8554857d",
   "metadata": {
    "execution": {
     "iopub.execute_input": "2022-03-23T22:18:43.159560Z",
     "iopub.status.busy": "2022-03-23T22:18:43.157500Z",
     "iopub.status.idle": "2022-03-23T22:18:43.161734Z",
     "shell.execute_reply": "2022-03-23T22:18:43.162366Z"
    },
    "papermill": {
     "duration": 0.052394,
     "end_time": "2022-03-23T22:18:43.162571",
     "exception": false,
     "start_time": "2022-03-23T22:18:43.110177",
     "status": "completed"
    },
    "tags": []
   },
   "outputs": [],
   "source": [
    "test_df[['length','mean_stft','var_stft','tempo','rms_mean','rms_var','centroid_mean','centroid_var',\\\n",
    "'bandwidth_mean','bandwidth_var','rolloff_mean','rolloff_var', 'crossing_mean','crossing_var',\\\n",
    "'harmonic_mean','harmonic_var','contrast_mean','contrast_var','key','key_name','scale','mfcc1_mean','mfcc1_var','mfcc2_mean','mfcc2_var','mfcc3_mean','mfcc3_var','mfcc4_mean','mfcc4_var',\\\n",
    "       'mfcc5_mean','mfcc5_var','mfcc6_mean','mfcc6_var','mfcc7_mean','mfcc7_var','mfcc8_mean','mfcc8_var',\\\n",
    "       'mfcc9_mean','mfcc9_var','mfcc10_mean','mfcc10_var','mfcc11_mean','mfcc11_var','mfcc12_mean','mfcc12_var',\\\n",
    "       'mfcc13_mean','mfcc13_var','mfcc14_mean','mfcc14_var','mfcc15_mean','mfcc15_var','mfcc16_mean','mfcc16_var',\\\n",
    "       'mfcc17_mean','mfcc17_var','mfcc18_mean','mfcc18_var','mfcc19_mean','mfcc19_var','mfcc20_mean','mfcc20_var']] = test_df.apply(feature_extract,axis=1,result_type='expand')"
   ]
  },
  {
   "cell_type": "code",
   "execution_count": 17,
   "id": "4b70e93f",
   "metadata": {
    "execution": {
     "iopub.execute_input": "2022-03-23T22:18:43.360421Z",
     "iopub.status.busy": "2022-03-23T22:18:43.359100Z",
     "iopub.status.idle": "2022-03-23T22:18:43.362187Z",
     "shell.execute_reply": "2022-03-23T22:18:43.362780Z"
    },
    "papermill": {
     "duration": 0.056343,
     "end_time": "2022-03-23T22:18:43.362960",
     "exception": false,
     "start_time": "2022-03-23T22:18:43.306617",
     "status": "completed"
    },
    "tags": []
   },
   "outputs": [],
   "source": [
    "test_df.to_csv('test_features.csv', index=False)"
   ]
  }
 ],
 "metadata": {
  "kernelspec": {
   "display_name": "Python 3",
   "language": "python",
   "name": "python3"
  },
  "language_info": {
   "codemirror_mode": {
    "name": "ipython",
    "version": 3
   },
   "file_extension": ".py",
   "mimetype": "text/x-python",
   "name": "python",
   "nbconvert_exporter": "python",
   "pygments_lexer": "ipython3",
   "version": "3.7.11"
  },
  "papermill": {
   "default_parameters": {},
   "duration": 55.926927,
   "end_time": "2022-03-23T22:18:44.398446",
   "environment_variables": {},
   "exception": null,
   "input_path": "__notebook__.ipynb",
   "output_path": "__notebook__.ipynb",
   "parameters": {},
   "start_time": "2022-03-23T22:17:48.471519",
   "version": "2.3.3"
  }
 },
 "nbformat": 4,
 "nbformat_minor": 5
}
