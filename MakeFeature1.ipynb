{
 "cells": [
  {
   "cell_type": "code",
   "execution_count": 16,
   "metadata": {},
   "outputs": [],
   "source": [
    "import os\n",
    "import numpy as np\n",
    "import pandas as pd"
   ]
  },
  {
   "cell_type": "code",
   "execution_count": null,
   "metadata": {},
   "outputs": [],
   "source": [
    "data_dir = '/workspace/data' \n",
    "file_list = os.listdir(data_dir)"
   ]
  },
  {
   "cell_type": "code",
   "execution_count": 18,
   "metadata": {},
   "outputs": [],
   "source": [
    "genres = pd.DataFrame(columns=['genre','genre_id'])\n",
    "genres['genre'] = ['Dance','Rap and Hip-Hop','Rock and Metal','Ballad','Folk and Blues','R&B and Soul']\n",
    "genres['genre_id'] = [0,1,2,3,4,5]\n",
    "genres.to_csv('genres.csv')\n"
   ]
  },
  {
   "cell_type": "code",
   "execution_count": 19,
   "metadata": {},
   "outputs": [],
   "source": [
    "cnt = 0\n",
    "df = pd.DataFrame(columns=['song_id','filename','filepath','genre_id','genre'])"
   ]
  },
  {
   "cell_type": "code",
   "execution_count": 20,
   "metadata": {},
   "outputs": [],
   "source": [
    "data_dir = '/workspace/data/댄스/' \n",
    "file_list = os.listdir(data_dir)\n",
    "\n",
    "for i in range(len(file_list)):\n",
    "    filename = file_list[i]\n",
    "    filepath = data_dir + file_list[i]\n",
    "    genre_id = 0\n",
    "    genre = 'Dance'\n",
    "    song_id = cnt \n",
    "    df.loc[cnt,'filename'] = filename\n",
    "    df.loc[cnt,'filepath'] = filepath\n",
    "    df.loc[cnt,'genre_id'] = genre_id\n",
    "    df.loc[cnt,'genre'] = genre\n",
    "    df.loc[cnt,'song_id'] = song_id\n",
    "    cnt +=1"
   ]
  },
  {
   "cell_type": "code",
   "execution_count": 21,
   "metadata": {},
   "outputs": [],
   "source": [
    "data_dir = '/workspace/data/랩:힙합/' \n",
    "file_list = os.listdir(data_dir)\n",
    "\n",
    "for i in range(len(file_list)):\n",
    "    filename = file_list[i]\n",
    "    filepath = data_dir + file_list[i]\n",
    "    genre_id = 1\n",
    "    genre = 'Rap and Hip-Hop'\n",
    "    song_id = cnt \n",
    "    df.loc[cnt,'filename'] = filename\n",
    "    df.loc[cnt,'filepath'] = filepath\n",
    "    df.loc[cnt,'genre_id'] = genre_id\n",
    "    df.loc[cnt,'genre'] = genre\n",
    "    df.loc[cnt,'song_id'] = song_id\n",
    "    cnt +=1\n"
   ]
  },
  {
   "cell_type": "code",
   "execution_count": 22,
   "metadata": {},
   "outputs": [],
   "source": [
    "data_dir = '/workspace/data/록:메탈/' \n",
    "file_list = os.listdir(data_dir)\n",
    "\n",
    "for i in range(len(file_list)):\n",
    "    filename = file_list[i]\n",
    "    filepath = data_dir + file_list[i]\n",
    "    genre_id = 2\n",
    "    genre = 'Rock and Metal'\n",
    "    song_id = cnt \n",
    "    df.loc[cnt,'filename'] = filename\n",
    "    df.loc[cnt,'filepath'] = filepath\n",
    "    df.loc[cnt,'genre_id'] = genre_id\n",
    "    df.loc[cnt,'genre'] = genre\n",
    "    df.loc[cnt,'song_id'] = song_id\n",
    "    cnt +=1\n"
   ]
  },
  {
   "cell_type": "code",
   "execution_count": 23,
   "metadata": {},
   "outputs": [],
   "source": [
    "data_dir = '/workspace/data/발라드/' \n",
    "file_list = os.listdir(data_dir)\n",
    "\n",
    "for i in range(len(file_list)):\n",
    "    filename = file_list[i]\n",
    "    filepath = data_dir + file_list[i]\n",
    "    genre_id = 3\n",
    "    genre = 'Ballad'\n",
    "    song_id = cnt \n",
    "    df.loc[cnt,'filename'] = filename\n",
    "    df.loc[cnt,'filepath'] = filepath\n",
    "    df.loc[cnt,'genre_id'] = genre_id\n",
    "    df.loc[cnt,'genre'] = genre\n",
    "    df.loc[cnt,'song_id'] = song_id\n",
    "    cnt +=1"
   ]
  },
  {
   "cell_type": "code",
   "execution_count": 24,
   "metadata": {},
   "outputs": [],
   "source": [
    "data_dir = '/workspace/data/포크:블루스/' \n",
    "file_list = os.listdir(data_dir)\n",
    "\n",
    "for i in range(len(file_list)):\n",
    "    filename = file_list[i]\n",
    "    filepath = data_dir + file_list[i]\n",
    "    genre_id = 4\n",
    "    genre = 'Folk and Blues'\n",
    "    song_id = cnt \n",
    "    df.loc[cnt,'filename'] = filename\n",
    "    df.loc[cnt,'filepath'] = filepath\n",
    "    df.loc[cnt,'genre_id'] = genre_id\n",
    "    df.loc[cnt,'genre'] = genre\n",
    "    df.loc[cnt,'song_id'] = song_id\n",
    "    cnt +=1"
   ]
  },
  {
   "cell_type": "code",
   "execution_count": 25,
   "metadata": {},
   "outputs": [],
   "source": [
    "data_dir = '/workspace/data/R&B:Soul/' \n",
    "file_list = os.listdir(data_dir)\n",
    "\n",
    "for i in range(len(file_list)):\n",
    "    filename = file_list[i]\n",
    "    filepath = data_dir + file_list[i]\n",
    "    genre_id = 5\n",
    "    genre = 'R&B and Soul'\n",
    "    song_id = cnt \n",
    "    df.loc[cnt,'filename'] = filename\n",
    "    df.loc[cnt,'filepath'] = filepath\n",
    "    df.loc[cnt,'genre_id'] = genre_id\n",
    "    df.loc[cnt,'genre'] = genre\n",
    "    df.loc[cnt,'song_id'] = song_id\n",
    "    cnt +=1"
   ]
  },
  {
   "cell_type": "code",
   "execution_count": 26,
   "metadata": {},
   "outputs": [
    {
     "data": {
      "text/plain": [
       "Ballad             102\n",
       "Dance               63\n",
       "Rap and Hip-Hop     46\n",
       "R&B and Soul        41\n",
       "Rock and Metal      29\n",
       "Folk and Blues      26\n",
       "Name: genre, dtype: int64"
      ]
     },
     "execution_count": 26,
     "metadata": {},
     "output_type": "execute_result"
    }
   ],
   "source": [
    "df.genre.value_counts()"
   ]
  },
  {
   "cell_type": "code",
   "execution_count": 27,
   "metadata": {},
   "outputs": [],
   "source": [
    "df = df.astype({'genre_id' : 'int32'})"
   ]
  },
  {
   "cell_type": "code",
   "execution_count": 28,
   "metadata": {},
   "outputs": [],
   "source": [
    "from sklearn.model_selection import StratifiedKFold\n",
    "folds = StratifiedKFold(n_splits=10, random_state=42, shuffle=True)\n",
    "train_idx, valid_idx = list(folds.split(df.values, df['genre_id']))[0]\n",
    "train = df.iloc[train_idx]\n",
    "valid = df.iloc[valid_idx]\n"
   ]
  },
  {
   "cell_type": "code",
   "execution_count": 29,
   "metadata": {},
   "outputs": [],
   "source": [
    "train = train.reset_index(drop=True)\n",
    "valid = valid.reset_index(drop=True)"
   ]
  },
  {
   "cell_type": "code",
   "execution_count": 30,
   "metadata": {},
   "outputs": [],
   "source": [
    "train.to_csv(\"train.csv\", index=False)\n",
    "valid.to_csv(\"valid.csv\", index=False)"
   ]
  }
 ],
 "metadata": {
  "interpreter": {
   "hash": "d4d1e4263499bec80672ea0156c357c1ee493ec2b1c70f0acce89fc37c4a6abe"
  },
  "kernelspec": {
   "display_name": "Python 3.7.11 ('base')",
   "language": "python",
   "name": "python3"
  },
  "language_info": {
   "codemirror_mode": {
    "name": "ipython",
    "version": 3
   },
   "file_extension": ".py",
   "mimetype": "text/x-python",
   "name": "python",
   "nbconvert_exporter": "python",
   "pygments_lexer": "ipython3",
   "version": "3.7.11"
  },
  "orig_nbformat": 4
 },
 "nbformat": 4,
 "nbformat_minor": 2
}
